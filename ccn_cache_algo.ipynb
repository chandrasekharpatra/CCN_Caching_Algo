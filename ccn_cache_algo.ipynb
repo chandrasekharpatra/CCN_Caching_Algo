{
 "cells": [
  {
   "cell_type": "markdown",
   "metadata": {},
   "source": [
    "# Defining usueful classes"
   ]
  },
  {
   "cell_type": "code",
   "execution_count": 20,
   "metadata": {
    "collapsed": true
   },
   "outputs": [],
   "source": [
    "trie_miss_count = 0\n",
    "class Trie:\n",
    "    \"\"\" This class itself act as a node in Trie. \"\"\"\n",
    "    def __init__(self):\n",
    "        self.count = 0\n",
    "        self.isword = False\n",
    "        self.childrens = {}\n",
    "        self.heap_index = -1\n",
    "\n",
    "    def insert(self, word, input_word, mHeap):\n",
    "        \"\"\" Insert method inserts a string  into the trie. \"\"\"\n",
    "        if len(word) == 0:\n",
    "            self.isword = True\n",
    "            self.count += 1\n",
    "            # node is new.\n",
    "            if self.heap_index == -1:\n",
    "                global trie_miss_count\n",
    "                trie_miss_count += 1\n",
    "                min_heap_node = HeapNode()\n",
    "                min_heap_node.trie_leaf_node = self\n",
    "                min_heap_node.count = self.count\n",
    "                min_heap_node.word = input_word\n",
    "                #print(\"insert is called.\")\n",
    "                mHeap.insert(min_heap_node)\n",
    "            else:\n",
    "                # node is already present in the heap.\n",
    "                #print(\"update is called.\")\n",
    "                mHeap.update_count(self.heap_index)\n",
    "            return\n",
    "        else:\n",
    "            first_char = word[0]\n",
    "            if self.childrens.get(first_char) is None:\n",
    "                self.childrens[first_char] = Trie()\n",
    "            self.childrens.get(first_char).insert(word[1:], input_word, mHeap)\n",
    "\n",
    "    def is_present(self, word):\n",
    "        \"\"\" This method searches for a  string  in the trie and returns true if present. \"\"\"\n",
    "        if len(word) == 0:\n",
    "            if self.isword:\n",
    "                return True\n",
    "            else:\n",
    "                return False\n",
    "        else:\n",
    "            first_char = word[0]\n",
    "            if self.childrens.get(first_char) is None:\n",
    "                return False\n",
    "            else:\n",
    "                return self.childrens.get(first_char).is_present(word[1:])\n"
   ]
  },
  {
   "cell_type": "code",
   "execution_count": 21,
   "metadata": {
    "collapsed": true
   },
   "outputs": [],
   "source": [
    "class HeapNode:\n",
    "    \"\"\" This class represents the nodes of heap. \"\"\"\n",
    "    def __init__(self):\n",
    "        self.count = 0\n",
    "        self.trie_leaf_node = None\n",
    "        self.word = 0"
   ]
  },
  {
   "cell_type": "code",
   "execution_count": 22,
   "metadata": {
    "collapsed": true
   },
   "outputs": [],
   "source": [
    "class MinHeap:\n",
    "    \"\"\" This class is for min heap creation.\"\"\"\n",
    "    def __init__(self, size):\n",
    "        self.container = []\n",
    "        self.size = size\n",
    "        self.current_size = 0\n",
    "\n",
    "    def insert(self, element):\n",
    "        \"\"\" This method inserts a node into the min heap.\"\"\"\n",
    "        if self.current_size < self.size:\n",
    "            self.container.append(element)\n",
    "            element.trie_leaf_node.heap_index = self.current_size\n",
    "            #print(\"heap index = \", element.trie_leaf_node.heap_index)\n",
    "            self.current_size += 1\n",
    "            self.bubble_up(self.current_size-1)\n",
    "        else:\n",
    "            if self.container[0].count < element.count:\n",
    "                # giving 0th position to the new element\n",
    "                element.trie_leaf_node.heap_index = 0\n",
    "                self.container[0].trie_leaf_node.heap_index = -1\n",
    "                self.container[0] = element\n",
    "                self.min_heapify(0)\n",
    "\n",
    "    def bubble_up(self, index):\n",
    "        \"\"\" This method helps in maintaining heap property of the heap.\"\"\"\n",
    "        while index > 0:\n",
    "            #print(\"I'm here!!\")\n",
    "            parent = int((index-1)/2)\n",
    "            #print(\"called 1\")\n",
    "            if self.container[parent].count > self.container[index].count:\n",
    "\n",
    "                if self.container[parent].trie_leaf_node is not None:\n",
    "                    self.container[parent].trie_leaf_node.heap_index = index\n",
    "\n",
    "                if self.container[index].trie_leaf_node is not None:\n",
    "                    #print(\"called 2\")\n",
    "                    self.container[index].trie_leaf_node.heap_index = parent\n",
    "\n",
    "                temp = self.container[parent]\n",
    "                self.container[parent] = self.container[index]\n",
    "                self.container[index] = temp\n",
    "            index = parent\n",
    "            #print(index)\n",
    "\n",
    "    def min_heapify(self, index):\n",
    "        \"\"\" min heapify \"\"\"\n",
    "        left = 2*index+1\n",
    "        right = 2*index+2\n",
    "        smallest = index\n",
    "        #print(\"called 1\")\n",
    "        if left < len(self.container) and self.container[left].count < self.container[index].count:\n",
    "            smallest = left\n",
    "        else:\n",
    "            smallest = index\n",
    "        if right < len(self.container) and self.container[right].count < self.container[smallest].count:\n",
    "            smallest = right\n",
    "        if smallest != index:\n",
    "            # updating the current index of heap nodes.\n",
    "            # self.container[smallest].current_index = index\n",
    "            # self.container[index].current_index = smallest\n",
    "\n",
    "            if self.container[smallest].trie_leaf_node is not None:\n",
    "                self.container[smallest].trie_leaf_node.heap_index = index\n",
    "\n",
    "            if self.container[index].trie_leaf_node is not None:\n",
    "                self.container[index].trie_leaf_node.heap_index = smallest\n",
    "\n",
    "            temp = self.container[index]\n",
    "            self.container[index] = self.container[smallest]\n",
    "            self.container[smallest] = temp\n",
    "            self.min_heapify(smallest)\n",
    "\n",
    "    def update_count(self, heap_index):\n",
    "        \"\"\" This method updates the count of elements of the heap.\"\"\"\n",
    "        self.container[heap_index].count += 1\n",
    "        self.min_heapify(heap_index)\n",
    "\n",
    "    def print_container(self):\n",
    "        \"\"\" Prints min heap \"\"\"\n",
    "        for i in range(0, self.current_size):\n",
    "            print(self.container[i].word, \" \", self.container[i].count, \" times, \", \"heap_index = \", self.container[i].trie_leaf_node.heap_index)\n"
   ]
  },
  {
   "cell_type": "markdown",
   "metadata": {},
   "source": [
    "# Creating LRU cache datastructure"
   ]
  },
  {
   "cell_type": "code",
   "execution_count": 23,
   "metadata": {
    "collapsed": true
   },
   "outputs": [],
   "source": [
    "from datetime import datetime\n",
    "class LRUCacheItem(object):\n",
    "    \"\"\"Data structure of items stored in cache\"\"\"\n",
    "    def __init__(self, key, item):\n",
    "        self.key = key\n",
    "        self.item = item\n",
    "        self.timestamp = datetime.now()"
   ]
  },
  {
   "cell_type": "code",
   "execution_count": 24,
   "metadata": {
    "collapsed": true
   },
   "outputs": [],
   "source": [
    "class LRUCache:\n",
    "    def __init__(self, length):\n",
    "        self.length = length\n",
    "        self.word_list = []\n",
    "        self.miss_count = 0\n",
    "\n",
    "    def insertItem(self, word):\n",
    "\n",
    "        if word in self.word_list:\n",
    "            word_index = self.word_list.index(word)\n",
    "            self.word_list[:] = self.word_list[:word_index] + self.word_list[word_index+1:]\n",
    "            self.word_list.insert(0, word)\n",
    "        else:\n",
    "            self.miss_count += 1 \n",
    "            if len(self.word_list) > self.length:\n",
    "                self.removeItem(self.word_list[-1])\n",
    "\n",
    "            self.word_list.insert(0,word)\n",
    "\n",
    "\n",
    "    def removeItem(self, word):\n",
    "        del self.word_list[self.word_list.index(word)]\n",
    "\n",
    "    def getMissCount(self):\n",
    "        return self.miss_count"
   ]
  },
  {
   "cell_type": "markdown",
   "metadata": {
    "collapsed": true
   },
   "source": [
    "# Reading data"
   ]
  },
  {
   "cell_type": "code",
   "execution_count": 25,
   "metadata": {
    "collapsed": true
   },
   "outputs": [],
   "source": [
    "text_file = open(\"data1.txt\", \"r\")\n",
    "lines = text_file.read()\n",
    "lines.replace('\\n','')\n",
    "word_list = lines.split(\" \")\n",
    "text_file.close()"
   ]
  },
  {
   "cell_type": "markdown",
   "metadata": {},
   "source": [
    "# Visualizing data"
   ]
  },
  {
   "cell_type": "code",
   "execution_count": 26,
   "metadata": {
    "collapsed": false
   },
   "outputs": [],
   "source": [
    "word_count = {}\n",
    "length = len(word_list)\n",
    "for i in range(length):\n",
    "    if word_count.get(word_list[i]) is None:\n",
    "        word_count[word_list[i]] = 1\n",
    "    else:\n",
    "        word_count[word_list[i]] += 1"
   ]
  },
  {
   "cell_type": "code",
   "execution_count": 27,
   "metadata": {
    "collapsed": false
   },
   "outputs": [],
   "source": [
    "#print(word_count)"
   ]
  },
  {
   "cell_type": "markdown",
   "metadata": {},
   "source": [
    "# Plotting the data frequency"
   ]
  },
  {
   "cell_type": "code",
   "execution_count": 34,
   "metadata": {
    "collapsed": true
   },
   "outputs": [],
   "source": [
    "import matplotlib.pyplot as plt\n",
    "%matplotlib inline"
   ]
  },
  {
   "cell_type": "code",
   "execution_count": 35,
   "metadata": {
    "collapsed": true
   },
   "outputs": [],
   "source": [
    "label_y = list(word_count.values())\n",
    "label_x = list(word_count.keys())"
   ]
  },
  {
   "cell_type": "code",
   "execution_count": 44,
   "metadata": {
    "collapsed": false
   },
   "outputs": [
    {
     "data": {
      "text/plain": [
       "<matplotlib.legend.Legend at 0x9060400>"
      ]
     },
     "execution_count": 44,
     "metadata": {},
     "output_type": "execute_result"
    },
    {
     "data": {
      "image/png": "[encoded data removed]",
      "text/plain": [
       "<matplotlib.figure.Figure at 0x90603c8>"
      ]
     },
     "metadata": {},
     "output_type": "display_data"
    }
   ],
   "source": [
    "plt.plot(label_y, label = 'data frequency')\n",
    "plt.legend()\n",
    "#print(type(label_x[0]))"
   ]
  },
  {
   "cell_type": "markdown",
   "metadata": {
    "collapsed": true
   },
   "source": [
    "# Calculation miss count for LRU and proposed Algorithm"
   ]
  },
  {
   "cell_type": "code",
   "execution_count": 43,
   "metadata": {
    "collapsed": false
   },
   "outputs": [
    {
     "data": {
      "text/plain": [
       "<matplotlib.legend.Legend at 0x8eaceb8>"
      ]
     },
     "execution_count": 43,
     "metadata": {},
     "output_type": "execute_result"
    },
    {
     "data": {
      "image/png": "[encoded data removed]",
      "text/plain": [
       "<matplotlib.figure.Figure at 0x8c35080>"
      ]
     },
     "metadata": {},
     "output_type": "display_data"
    }
   ],
   "source": [
    "miss_count_trie = []\n",
    "miss_count_LRU = []\n",
    "cache_size = []\n",
    "for cacheSize in range(10, 501, 10):\n",
    "    global trie_miss_count\n",
    "    trie_miss_count = 0\n",
    "    mHeap = MinHeap(cacheSize)\n",
    "    mTrie = Trie()\n",
    "    mLRU = LRUCache(cacheSize)\n",
    "    for word in word_list:\n",
    "        mTrie.insert(word, word, mHeap)\n",
    "        mLRU.insertItem(word)\n",
    "    miss_count_trie.append(trie_miss_count)\n",
    "    miss_count_LRU.append(mLRU.getMissCount())\n",
    "    cache_size.append(cacheSize)\n",
    "    \n",
    "#print(miss_count_trie)\n",
    "#print(miss_count_LRU)\n",
    "#print(cache_size)\n",
    "fig = plt.figure()\n",
    "ax = fig.add_subplot(111)\n",
    "ax.set_title(\"Cache Miss vs Cache Size\")\n",
    "ax.set_xlabel(\"Cache Size\")\n",
    "ax.set_ylabel(\"Cache Miss\")\n",
    "\n",
    "\n",
    "ax.plot(cache_size, miss_count_trie, color = 'r', label = 'Trie')\n",
    "ax.plot(cache_size, miss_count_LRU, color = 'b', label = 'LRU')\n",
    "ax.legend()\n",
    "#fig.show()"
   ]
  },
  {
   "cell_type": "code",
   "execution_count": null,
   "metadata": {
    "collapsed": true
   },
   "outputs": [],
   "source": []
  }
 ],
 "metadata": {
  "kernelspec": {
   "display_name": "Python 3",
   "language": "python",
   "name": "python3"
  },
  "language_info": {
   "codemirror_mode": {
    "name": "ipython",
    "version": 3
   },
   "file_extension": ".py",
   "mimetype": "text/x-python",
   "name": "python",
   "nbconvert_exporter": "python",
   "pygments_lexer": "ipython3",
   "version": "3.4.0"
  }
 },
 "nbformat": 4,
 "nbformat_minor": 0
}
